{
  "nbformat": 4,
  "nbformat_minor": 0,
  "metadata": {
    "colab": {
      "name": "PTTKTT_Tuan3_wecode.ipynb",
      "provenance": [],
      "collapsed_sections": [],
      "toc_visible": true,
      "include_colab_link": true
    },
    "kernelspec": {
      "name": "python3",
      "display_name": "Python 3"
    },
    "language_info": {
      "name": "python"
    }
  },
  "cells": [
    {
      "cell_type": "markdown",
      "metadata": {
        "id": "view-in-github",
        "colab_type": "text"
      },
      "source": [
        "<a href=\"https://colab.research.google.com/github/Nhat-Thanh/CS112.L21/blob/main/Tuan3/PTTKTT_Tuan3_wecode.ipynb\" target=\"_parent\"><img src=\"https://colab.research.google.com/assets/colab-badge.svg\" alt=\"Open In Colab\"/></a>"
      ]
    },
    {
      "cell_type": "markdown",
      "metadata": {
        "id": "Jt699fjUW7So"
      },
      "source": [
        "<center> <h1> <b> CS112.L21: PHÂN TÍCH VÀ THIẾT KẾ THUẬT TOÁN <center> <h1> <b>\n",
        "\n",
        "<center> <h2> <b> BÀI TẬP WECODE TUẦN 3: Số nguyên mới + Đổi mới <center> <h> <b>"
      ]
    },
    {
      "cell_type": "markdown",
      "metadata": {
        "id": "ZEwUmsoyVXw7"
      },
      "source": [
        "###***Đổi mới***\n",
        "1. Abstraction: Đưa ra số ngày mà cả hai đội cùng chặt hết số cây\n",
        "\n",
        "2. Pattern Recognition: Tìm công thức toán tối ưu để tìm nghiệm cho bài toán\n",
        "\n",
        "\n",
        "\n",
        "3. Algorithm designed: \n",
        "```\n",
        "  Input: \n",
        "    int a, k, b, m,  n;\n",
        "  \n",
        "  // Gọi x là số ngày dự đoán gần với kết quả nhất\n",
        "  // Do cơ chế phát triển bài toán của đề bài có tính quy luật, nên ta sẽ dùng công thức toán học để tính gần đúng kết cuối cùng\n",
        "\n",
        "  int x = 1.0 * n / (a - 1.0 * a / k + b - 1.0 * b / m);\n",
        "  SoCayDaBiChat = x * (a + b) - (x / k * a + x / m * b)\n",
        "\n",
        "  while (SoCayDaBiChat < n) {\n",
        "    x = x + 1;\n",
        "    Cap nhập lại giá trị cho SoCayDaBiChat;\n",
        "  }\n",
        "\n",
        "  while (SoCayDaBiChat > n) {\n",
        "    Cap nhập lại giá trị cho SoCayDaBiChat;\n",
        "    x = x - 1;\n",
        "  }\n",
        "\n",
        "  Xử lý trường hợp x rơi vào ngày mà cả hai đội đều nghỉ\n",
        "  \n",
        "  Output: x\n",
        "```\n",
        "Quá trình để suy ra công thức tìm x: \n",
        "\n",
        "  ![Cong Thuc Tim X](https://raw.githubusercontent.com/Nhat-Thanh/CS112.L21/main/Tuan3/Cong%20Thuc%20TIm%20X.jpg)\n",
        "\n",
        "4. Đánh giá độ phức tạp thuật toán:\n",
        "\n",
        "  Do ```x``` được suy ra từ công thức, và ```x``` đã rất gần với nghiệm đúng của bài toán nên vòng lặp không thực hiện nhiều lần.\n",
        "\n",
        "  => Độ phức tạp của thuật toán này là ```O(1)```\n",
        "\n",
        "5. Source code thực thi thuật toán trên:"
      ]
    },
    {
      "cell_type": "code",
      "metadata": {
        "colab": {
          "base_uri": "https://localhost:8080/"
        },
        "id": "7h0MlNINCUO3",
        "outputId": "7413f858-f25f-43f6-94b6-1c731c67d839"
      },
      "source": [
        "def SoCay(a, k, ngay):\n",
        "  return a * (ngay % k != 0)\n",
        "\n",
        "a, k, b, m, n = [int(value) for value in input().split()]\n",
        "\n",
        "# x la so ngay gan dung\n",
        "x = int( n / (a - a / k + b - b / m) )\n",
        "\n",
        "SoCayDaBiChat = x * (a + b) - (x // k * a + x // m * b)\n",
        "\n",
        "while SoCayDaBiChat > n:\n",
        "  SoCayDaBiChat -= SoCay(a, k, x) + SoCay(b, m, x)\n",
        "  x -= 1\n",
        "\n",
        "while SoCayDaBiChat < n:\n",
        "  x += 1\n",
        "  SoCayDaBiChat += SoCay(a, k, x) + SoCay(b, m, x)\n",
        "\n",
        "x -= (x % k == 0) and (x % m == 0)\n",
        "\n",
        "print(x)"
      ],
      "execution_count": null,
      "outputs": [
        {
          "output_type": "stream",
          "text": [
            "2 4 3 3 42\n",
            "11\n"
          ],
          "name": "stdout"
        }
      ]
    },
    {
      "cell_type": "markdown",
      "metadata": {
        "id": "aJQLoiZRFkzm"
      },
      "source": [
        "###***Tìm số nguyên mới***\n",
        "1. Abstraction: Đưa ra số  nguyên lớn nhất mà chỉ khác input 1 chữ số duy nhất và chia hết cho3\n",
        "\n",
        "2. Pattern Recognition: dựa trên cách tính số chia hết cho 3. Tổng của các chữ số.Nếu cần tăng thì tăng các số đầu tiên , nếu giảm thì sẽ giảm số gần cuối cùng nhất\n",
        "\n",
        "\n",
        "\n",
        "3. Algorithm designed: \n",
        "bài toán tìm số nguyên mới \n",
        "```\n",
        "input a string => input_number \n",
        "convert input to a list of integer number => input_number = [int(x) for x in input_number)\n",
        "calculate sum of all number in list => sum = sum(input_number)\n",
        "calculate mod = sum % 3\n",
        "call function to exe_list (input_number , mod)\n",
        "```\n",
        "```\n",
        "function exe_list(list of number,mod):\n",
        "  for i=0 -> end:\n",
        "\t\tif we can replace it by  a  hingher number to make sum(list number) % 3:\n",
        "\t\t\treplace it by higher number and then break the loop\n",
        "\tend loop\n",
        "\tif sum(list number) is still the same:\n",
        "\t\tfor i= end -> 0:\n",
        "\t\t\tif we can replace it by a lower number to make sum(list number) %3:\n",
        "\t\t\t\treplace it by lower number and then break the loop\n",
        "\t\tend loop\n",
        "```\n",
        "4. Đánh giá độ phức tạp thuật toán:\n",
        "\n",
        " thuật toán khi nhận input là O(n)\n",
        " thay đổi giá trị của số là O(n)\n",
        "  => Độ phức tạp của thuật toán này là ```O(n)```\n",
        "\n",
        "5. Source code thực thi thuật toán trên:"
      ]
    },
    {
      "cell_type": "code",
      "metadata": {
        "id": "5_JUVuCAFh8m"
      },
      "source": [
        "def mod_equal(number,mod):\n",
        "    for i in range(len(number)):\n",
        "        if number[i] + (3-mod) < 10 : \n",
        "            number[i] += (3-mod) \n",
        "            while number[i] < 7:\n",
        "                number[i] += 3\n",
        "            break\n",
        "    if sum(number) == sum_all:\n",
        "        remove_mod_equal(number,mod)\n",
        "\n",
        "def remove_mod_equal(number,mod):\n",
        "    for i in list(reversed(range(len(number)))):\n",
        "        if number[i] >= mod:\n",
        "            number[i] -= mod + 3 * (mod == 0)\n",
        "            break\n",
        "number = [int(value) for value in input()]\n",
        "sum_all = sum(number)\n",
        "mod = sum_all %3\n",
        "mod_equal(number,mod) #\n",
        "number = [str(value) for value in number]\n",
        "print(\"\".join(number))"
      ],
      "execution_count": null,
      "outputs": []
    },
    {
      "cell_type": "code",
      "metadata": {
        "id": "Bu2sZLZrFjYY"
      },
      "source": [
        ""
      ],
      "execution_count": null,
      "outputs": []
    }
  ]
}