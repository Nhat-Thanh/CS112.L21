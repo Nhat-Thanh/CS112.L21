{
  "nbformat": 4,
  "nbformat_minor": 0,
  "metadata": {
    "colab": {
      "name": "PTTKTT_Tuan3_wecode.ipynb",
      "provenance": [],
      "collapsed_sections": [],
      "toc_visible": true,
      "authorship_tag": "ABX9TyOIKS5GbHCX8tUsCR65MxQU",
      "include_colab_link": true
    },
    "kernelspec": {
      "name": "python3",
      "display_name": "Python 3"
    },
    "language_info": {
      "name": "python"
    }
  },
  "cells": [
    {
      "cell_type": "markdown",
      "metadata": {
        "id": "view-in-github",
        "colab_type": "text"
      },
      "source": [
        "<a href=\"https://colab.research.google.com/github/Nhat-Thanh/CS112.L21/blob/main/Tuan3/PTTKTT_Tuan3_wecode.ipynb\" target=\"_parent\"><img src=\"https://colab.research.google.com/assets/colab-badge.svg\" alt=\"Open In Colab\"/></a>"
      ]
    },
    {
      "cell_type": "markdown",
      "metadata": {
        "id": "Jt699fjUW7So"
      },
      "source": [
        "<center> <h1> <b> CS112.L21: PHÂN TÍCH VÀ THIẾT KẾ THUẬT TOÁN <center> <h1> <b>\n",
        "\n",
        "<center> <h2> <b> BÀI TẬP WECODE TUẦN 3: Số nguyên mới + Đổi mới <center> <h> <b>"
      ]
    },
    {
      "cell_type": "markdown",
      "metadata": {
        "id": "ZEwUmsoyVXw7"
      },
      "source": [
        "###***Đổi mới***\n",
        "1. Abstraction: Đưa ra số ngày mà cả hai đội cùng chặt hết số cây\n",
        "\n",
        "2. Pattern Recognition: Tìm công thức toán tối ưu để tìm nghiệm cho bài toán\n",
        "\n",
        "\n",
        "\n",
        "3. Algorithm designed: \n",
        "```\n",
        "  Input: \n",
        "    int a, k, b, m,  n;\n",
        "  \n",
        "  // Gọi x là số ngày dự đoán gần với kết quả nhất\n",
        "  // Do cơ chế phát triển bài toán của đề bài có tính quy luật, nên ta sẽ dùng công thức toán học để tính gần đúng kết cuối cùng\n",
        "\n",
        "  int x = 1.0 * n / (a - 1.0 * a / k + b - 1.0 * b / m);\n",
        "  SoCayDaBiChat = x * (a + b) - (x / k * a + x / m * b)\n",
        "\n",
        "  while (SoCayDaBiChat < n) {\n",
        "    x = x + 1;\n",
        "    Cap nhập lại giá trị cho SoCayDaBiChat;\n",
        "  }\n",
        "\n",
        "  while (SoCayDaBiChat > n) {\n",
        "    Cap nhập lại giá trị cho SoCayDaBiChat;\n",
        "    x = x - 1;\n",
        "  }\n",
        "\n",
        "  Xử lý trường hợp x rơi vào ngày mà cả hai đội đều nghỉ\n",
        "  \n",
        "  Output: x\n",
        "```\n",
        "Quá trình để suy ra công thức tìm x: \n",
        "\n",
        "  ![Cong Thuc Tim X](https://raw.githubusercontent.com/Nhat-Thanh/CS112.L21/main/Tuan3/Cong%20Thuc%20TIm%20X.jpg)\n",
        "\n",
        "4. Đánh giá độ phức tạp thuật toán:\n",
        "\n",
        "  Do x được suy ra từ công thức, và x đã rất gần với nghiệm đúng của bài toán nên vòng lặp không thực hiện nhiều lần.\n",
        "\n",
        "  => Độ phức tạp của thuật toán này là O(1)\n",
        "\n",
        "5. Source code thực thi thuật toán trên:"
      ]
    },
    {
      "cell_type": "code",
      "metadata": {
        "colab": {
          "base_uri": "https://localhost:8080/"
        },
        "id": "7h0MlNINCUO3",
        "outputId": "7413f858-f25f-43f6-94b6-1c731c67d839"
      },
      "source": [
        "def SoCay(a, k, ngay):\n",
        "  return a * (ngay % k != 0)\n",
        "\n",
        "a, k, b, m, n = [int(value) for value in input().split()]\n",
        "\n",
        "# x la so ngay gan dung\n",
        "x = int( n / (a - a / k + b - b / m) )\n",
        "\n",
        "SoCayDaBiChat = x * (a + b) - (x // k * a + x // m * b)\n",
        "\n",
        "while SoCayDaBiChat > n:\n",
        "  SoCayDaBiChat -= SoCay(a, k, x) + SoCay(b, m, x)\n",
        "  x -= 1\n",
        "\n",
        "while SoCayDaBiChat < n:\n",
        "  x += 1\n",
        "  SoCayDaBiChat += SoCay(a, k, x) + SoCay(b, m, x)\n",
        "\n",
        "x -= (x % k == 0) and (x % m == 0)\n",
        "\n",
        "print(x)"
      ],
      "execution_count": null,
      "outputs": [
        {
          "output_type": "stream",
          "text": [
            "2 4 3 3 42\n",
            "11\n"
          ],
          "name": "stdout"
        }
      ]
    }
  ]
}