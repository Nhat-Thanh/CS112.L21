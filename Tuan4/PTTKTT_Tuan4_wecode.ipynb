{
  "nbformat": 4,
  "nbformat_minor": 0,
  "metadata": {
    "colab": {
      "name": "PTTKTT_Tuan4_wecode.ipynb",
      "provenance": [],
      "collapsed_sections": [],
      "toc_visible": true,
      "authorship_tag": "ABX9TyMnu5i6M2PW+L5PSdvht7lk",
      "include_colab_link": true
    },
    "kernelspec": {
      "name": "python3",
      "display_name": "Python 3"
    },
    "language_info": {
      "name": "python"
    }
  },
  "cells": [
    {
      "cell_type": "markdown",
      "metadata": {
        "id": "view-in-github",
        "colab_type": "text"
      },
      "source": [
        "<a href=\"https://colab.research.google.com/github/Nhat-Thanh/CS112.L21/blob/main/Tuan4/PTTKTT_Tuan4_wecode.ipynb\" target=\"_parent\"><img src=\"https://colab.research.google.com/assets/colab-badge.svg\" alt=\"Open In Colab\"/></a>"
      ]
    },
    {
      "cell_type": "markdown",
      "metadata": {
        "id": "i_qJMjpqfBWO"
      },
      "source": [
        "<center> <h1> <b> CS112.L21: PHÂN TÍCH VÀ THIẾT KẾ THUẬT TOÁN <center> <h1> <b>\n",
        "\n",
        "<center> <h2> <b> BÀI TẬP WECODE TUẦN 4: Sửa hàng rào + Phân số <center> <h2> <b>"
      ]
    },
    {
      "cell_type": "markdown",
      "metadata": {
        "id": "rdom3mCzdRvk"
      },
      "source": [
        "#**1. Sửa hàng rào**"
      ]
    },
    {
      "cell_type": "markdown",
      "metadata": {
        "id": "ArJJfjTPUf6h"
      },
      "source": [
        "- Abstraction: Tìm ra độ cao lớn nhất tối thiểu mà dãy số có thể đạt được sau khi cộng với một dãy khác\n",
        "- Pattern recognition: chia để trị.\n",
        "- Algorithm design:\n",
        "      input: n, m, a[n], b[m]\n",
        "\n",
        "      // Dùng tìm kiếm nhị phân để tìm ra độ cao tối đa\n",
        "      left = 0;\n",
        "      right = max(a) * 2;\n",
        "      j = 0;\n",
        "      height = 0;\n",
        "      COUNT = 0;\n",
        "      count = 0;\n",
        "      while (left <= right) {\n",
        "        mid = (left + right) / 2;\n",
        "        check = true;\n",
        "        for i = 0 to n {\n",
        "          if (a[i] > mid) -> continuecontinue\n",
        "          tìm j sao cho (a[i] + b[j] < mid) \n",
        "\n",
        "          if (j >= m) {\n",
        "            check = false;\n",
        "            break;\n",
        "          }\n",
        "\n",
        "          j = j + 1;\n",
        "          count = count + 1;\n",
        "        }\n",
        "\n",
        "        if (check = true) {\n",
        "          height = mid;\n",
        "          COUNT = count;\n",
        "          cập nhật left;\n",
        "        }\n",
        "        else {\n",
        "          cập nhật right;\n",
        "        }\n",
        "      }\n",
        "\n",
        "      xuất kết quả\n",
        "\n",
        "- Độ phức tạp: O(nlog(n))\n",
        "- Mã nguồn chương trình:\n"
      ]
    },
    {
      "cell_type": "code",
      "metadata": {
        "id": "f51RtsRITsi_"
      },
      "source": [
        "import sys\n",
        "input = sys.stdin.readline\n",
        "\n",
        "n = int(input())\n",
        "a = [int(val) for val in input().split()]\n",
        "\n",
        "m = int(input())\n",
        "b = [int(val) for val in input().split()]\n",
        "\n",
        "left  = 0\n",
        "right = (10**8) << 1\n",
        "high = COUNT = 0\n",
        "\n",
        "while left <= right :\n",
        "    mid = (left + right) >> 1\n",
        "    check = True\n",
        "    j  = count = 0\n",
        "    \n",
        "    for i in range(n):\n",
        "        if a[i] >= mid:\n",
        "            continue\n",
        "        while (j < m) and (a[i] + b[j] < mid):\n",
        "            j += 1\n",
        "        \n",
        "        if j >= m : \n",
        "            check = False\n",
        "            break\n",
        "        j += 1\n",
        "        count += 1\n",
        "\n",
        "    if check:\n",
        "        high  = mid\n",
        "        left  = (mid + 1) \n",
        "        COUNT = count\n",
        "    else :\n",
        "        right = (mid - 1) \n",
        "\n",
        "sys.stdout.write(f\"{high} {COUNT}\\n\")\n",
        "j = 0\n",
        "for i in range(n) :\n",
        "    if a[i] >= high:\n",
        "        continue\n",
        "    while j < m and a[i] + b[j] < high :\n",
        "        j += 1\n",
        "    j += 1\n",
        "    sys.stdout.write(f\"{i+1} {j}\\n\")"
      ],
      "execution_count": null,
      "outputs": []
    },
    {
      "cell_type": "markdown",
      "metadata": {
        "id": "UizT9sG_a_XV"
      },
      "source": [
        "#**2. Phân số**"
      ]
    },
    {
      "cell_type": "markdown",
      "metadata": {
        "id": "eCukH_cYdCON"
      },
      "source": [
        "- Abstraction: tìm số lần mà sau mỗi lần cộng 1 vào tử và mẫu của phân số thứ nhất để được bằng với phân số thứ 2.\n",
        "- Pattern recognition: vét cạn.\n",
        "- Algorithm design:\n",
        "      input: a, b, c, d\n",
        "      n = 0;\n",
        "      while (a/b != c/d) {\n",
        "        a = a + 1;\n",
        "        b = b + 1;\n",
        "        tối giản phân số a/b\n",
        "        n = n + 1;\n",
        "        if (a/b > c/d ) {\n",
        "          n = 0;\n",
        "          break;\n",
        "        }\n",
        "      }\n",
        "\n",
        "      xuất n;\n",
        "\n",
        "- Độ phức tạp: O(n)\n",
        "- Mã nguồn chương trình:"
      ]
    },
    {
      "cell_type": "code",
      "metadata": {
        "id": "DM5C0uMvcuOt"
      },
      "source": [
        "import math\n",
        "\n",
        "a = int(input())\n",
        "b = int(input())\n",
        "c = int(input())\n",
        "d = int(input())\n",
        "\n",
        "n = 0\n",
        "while (a != c or b != d):\n",
        "    a += 1\n",
        "    b += 1\n",
        "    gcd_ = math.gcd(a, b)\n",
        "    a = int(a/gcd_)\n",
        "    b = int(b/gcd_)\n",
        "    n += 1\n",
        "    if (a/b > c/d ):\n",
        "        n = 0\n",
        "        break\n",
        "print (n)"
      ],
      "execution_count": null,
      "outputs": []
    }
  ]
}