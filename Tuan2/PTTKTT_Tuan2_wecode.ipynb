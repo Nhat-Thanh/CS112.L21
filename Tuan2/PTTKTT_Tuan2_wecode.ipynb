{
  "nbformat": 4,
  "nbformat_minor": 0,
  "metadata": {
    "colab": {
      "name": "PTTKTT_Tuan2_wecode.ipynb",
      "provenance": [],
      "collapsed_sections": [],
      "include_colab_link": true
    },
    "kernelspec": {
      "name": "python3",
      "display_name": "Python 3"
    },
    "language_info": {
      "name": "python"
    }
  },
  "cells": [
    {
      "cell_type": "markdown",
      "metadata": {
        "id": "view-in-github",
        "colab_type": "text"
      },
      "source": [
        "<a href=\"https://colab.research.google.com/github/Nhat-Thanh/CS112.L21/blob/main/Tuan2/PTTKTT_Tuan2_wecode.ipynb\" target=\"_parent\"><img src=\"https://colab.research.google.com/assets/colab-badge.svg\" alt=\"Open In Colab\"/></a>"
      ]
    },
    {
      "cell_type": "markdown",
      "metadata": {
        "id": "i_qJMjpqfBWO"
      },
      "source": [
        "<center> <h1> <b> CS112.L21: PHÂN TÍCH VÀ THIẾT KẾ THUẬT TOÁN <center> <h1> <b>\n",
        "\n",
        "<center> <h2> <b> BÀI TẬP WECODE TUẦN 2: H-Index, Khóa số <center> <h2> <b>"
      ]
    },
    {
      "cell_type": "markdown",
      "metadata": {
        "id": "X8Z9Kcp-O1ou"
      },
      "source": [
        "#***1. H-Index***"
      ]
    },
    {
      "cell_type": "markdown",
      "metadata": {
        "id": "jVY0v5Syu0UL"
      },
      "source": [
        "- Abstraction: Cho một mảng có n phần tử, tìm số lượng m các phần tử có giá trị >= m ở trong mảng và m là giá trị lớn nhất có thể đạt được\n",
        "- Pattern recognition: Tìm số lớn nhất có thể đạt được.\n",
        "- Algorithm design:\n",
        "      input: n, c[n]\n",
        "      // Sắp xếp lại mảng c\n",
        "      sort(c, c + n);\n",
        "      for i = 0 to n do {\n",
        "        if (c[i] >= n - i)\n",
        "          break;\n",
        "      }\n",
        "      // Xuất kết quả\n",
        "      print(n - i);\n",
        "\n",
        "- Độ phức tạp: O(n)\n",
        "- Mã nguồn chương trình:"
      ]
    },
    {
      "cell_type": "code",
      "metadata": {
        "id": "B_uO5JwCr32B"
      },
      "source": [
        "import sys\n",
        "\n",
        "input = sys.stdin.readline\n",
        "\n",
        "n = int(input())\n",
        "arr = list(map(int, input().split()))\n",
        "\n",
        "arr.sort()\n",
        "i = 0\n",
        "while i < n:\n",
        "    if arr[i] >= n - i:\n",
        "        break\n",
        "    i += 1\n",
        "\n",
        "print(n - i)"
      ],
      "execution_count": null,
      "outputs": []
    },
    {
      "cell_type": "markdown",
      "metadata": {
        "id": "izDdy3bfO8k4"
      },
      "source": [
        "#***2. Khóa số***"
      ]
    },
    {
      "cell_type": "markdown",
      "metadata": {
        "id": "TpXNxhLAssBr"
      },
      "source": [
        "- Abstraction: cho một số int,tìm giá trị lớn nhất nhất khi thay đổi 1 chữ số bất kì và số thu được phải chia hết cho 3\n",
        "- Pattern recognition: tìm số lớn nhất có thể đạt được khi khi thay đổi một số và chia hết một số cho trước\n",
        "- Algorithm design:\n",
        "      input: string numberN\n",
        "      convert numberN to list then sort it\n",
        "      check if len(numberN) == 0 : return 0\n",
        "      check if sum(numberN) == 0 return numberN\n",
        "      check if sum(numberN)%3 == 0: sort and return numberN\n",
        "      check if remove 1 element => sum(numberN)%3: remove smallest element\n",
        "      else: remove 2 smallest element\n",
        "\n",
        "\n",
        "- Độ phức tạp: O(n)\n",
        "- Mã nguồn chương trình:"
      ]
    },
    {
      "cell_type": "code",
      "metadata": {
        "id": "2up41XJ2PKaH"
      },
      "source": [
        "def find_smallest_number(mod):\n",
        "    if mod == 1:\n",
        "        if 1 in number_list:\n",
        "            return 1\n",
        "        if 4 in number_list:\n",
        "            return 4\n",
        "        if 7 in number_list:\n",
        "            return 7\n",
        "    elif mod == 2:\n",
        "        if 2 in number_list:\n",
        "            return 2\n",
        "        if 5 in number_list:\n",
        "            return 5\n",
        "        if 8 in number_list:\n",
        "            return 8\n",
        "    return 0\n",
        "            \n",
        "def delete_n_number(mod):\n",
        "    if mod ==1:\n",
        "        number_to_remove = find_smallest_number(2)\n",
        "        number_list.remove(number_to_remove)\n",
        "        number_to_remove = find_smallest_number(2)\n",
        "        number_list.remove(number_to_remove)\n",
        "    elif mod == 2:\n",
        "        number_to_remove = find_smallest_number(1)\n",
        "        number_list.remove(number_to_remove)\n",
        "        number_to_remove = find_smallest_number(1)\n",
        "        number_list.remove(number_to_remove)\n",
        "def Execute():\n",
        "    if sum(number_list) == 0:\n",
        "        return number_list\n",
        "    mod = sum(number_list) % 3\n",
        "    if mod == 0:\n",
        "        number_list.reverse()\n",
        "        return number_list\n",
        "    else:\n",
        "        smallest_number = find_smallest_number(mod)\n",
        "        if smallest_number != 0:\n",
        "            number_list.remove(smallest_number)\n",
        "            number_list.reverse()\n",
        "        else:\n",
        "            delete_n_number(mod)\n",
        "            number_list.reverse()\n",
        "        return number_list\n",
        "\n",
        "number_list = input().strip()\n",
        "number_list = [int(x) for x in number_list]\n",
        "number_list.sort()\n",
        "arr_result = Execute()\n",
        "if len(arr_result) == 0:\n",
        "    print(0)\n",
        "else:\n",
        "    arr_result = list(map(str,arr_result))\n",
        "    print(\"\".join(arr_result))"
      ],
      "execution_count": null,
      "outputs": []
    }
  ]
}