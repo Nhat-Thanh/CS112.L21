{
  "nbformat": 4,
  "nbformat_minor": 0,
  "metadata": {
    "colab": {
      "name": "Tổng hợp báo cáo.ipynb",
      "provenance": [],
      "collapsed_sections": [],
      "toc_visible": true,
      "include_colab_link": true
    },
    "kernelspec": {
      "name": "python3",
      "display_name": "Python 3"
    },
    "language_info": {
      "name": "python"
    }
  },
  "cells": [
    {
      "cell_type": "markdown",
      "metadata": {
        "id": "view-in-github",
        "colab_type": "text"
      },
      "source": [
        "<a href=\"https://colab.research.google.com/github/Nhat-Thanh/CS112.L21/blob/main/Tong_Hop_Bao_Cao/T%E1%BB%95ng_h%E1%BB%A3p_b%C3%A1o_c%C3%A1o.ipynb\" target=\"_parent\"><img src=\"https://colab.research.google.com/assets/colab-badge.svg\" alt=\"Open In Colab\"/></a>"
      ]
    },
    {
      "cell_type": "markdown",
      "metadata": {
        "id": "qtEqGJPs_dX9"
      },
      "source": [
        "<center> <h1> <b> CS112.L21: PHÂN TÍCH VÀ THIẾT KẾ THUẬT TOÁN <center> <h1> <b>\n",
        "<center> <h1> <b> Tổng hợp kết quả seminar <center> <h1> <b>\n",
        "\n",
        "<center> <h1> <b> Chủ đề: Phân tích độ phức tạp thuật toán Đệ quy <center> <h1> <b>"
      ]
    },
    {
      "cell_type": "markdown",
      "metadata": {
        "id": "zypVm0Au_3le"
      },
      "source": [
        "#**Nhóm thực hiện**\n",
        "Nhóm 6 (N06)\n",
        "\n",
        "- Vũ Nguyễn Nhật Thanh - 19522246\n",
        "\n",
        "- Nguyễn Phi Long - 19521791\n",
        "\n",
        "- Võ Huy Thành - 19522244\n",
        "\n",
        "- Nguyễn Văn Thành - 19522243"
      ]
    },
    {
      "cell_type": "markdown",
      "metadata": {
        "id": "otyfax2qA77w"
      },
      "source": [
        "#**1. Báo cáo phân công và theo dõi tiến độ công việc cho mỗi thành viên.**"
      ]
    },
    {
      "cell_type": "markdown",
      "metadata": {
        "id": "9zbdBI93_MFe"
      },
      "source": [
        "**PHÂN CÔNG CÔNG VIỆC**\n",
        "\n",
        "Trong buổi seminar: \n",
        "- Vũ Nguyễn Nhật Thanh trình bày phần khái niệm về đệ quy và cách tính toán độ phức tạp thuật toán của đệ quy và trả lời câu hỏi của các nhóm trong quá trình thuyết trình.\n",
        "- Võ Huy Thành thuyết trình phần ưu điểm và nhược điểm của thuật toán đệ quy\n",
        "- Nguyễn Văn Thành và Nguyễn Phi Long quan sát và ghi chú lại các câu hỏi và các bạn phát biểu, trả lời câu hỏi. \n",
        "\n",
        "Trong quá trình chuẩn bị\n",
        "- Cả nhóm tìm hiểu về chủ đề và phân chia công việc. \n",
        "- Nhật Thanh tìm hiểu và chuẩn bị file script gồm các nội dung khái niệm thuật toán đệ quy và cách tính độ phức tạp thuật toán đệ quy \n",
        "- Văn Thành, Huy Thành đảm nhiệm phần chuẩn bị bài tập trong slide và bài tập về nhà.\n",
        "- Long tổng hợp các tài liệu của các thành viên từ đó rút ra các ý chính để soạn slide.\n",
        "\n",
        "**THEO DÕI TIẾN ĐỘ CỦA MỖI THÀNH VIÊN TRONG NHÓM:**\n",
        "- Ngày 21/03/2021 nhóm bắt đầu tiến hành họp tìm hiểu nội dung bài seminar.\n",
        "- Ngày 22/03/2021 các thành viên trong nhóm tiến hành họp lại lần 2 để trao đổi về nội dung đã tìm hiểu được và ra các quyết định về cách tổ chức, triển khai buổi seminar nhắm đến mục tiêu là thực tiễn và ví dụ làm nòng cốt để các thành viên trong lớp tiếp cận vấn đề một cách thực chiến không trừu tượng, hàm lâm. Cũng từ đó đưa ra các deadline nhỏ để thành viên trong nhóm thực hiện.\n",
        "- Ngày 24/03/2021 Thành viên trong nhóm tiến hành đúng tiến độ công việc Nhật Thanh đăng tải file script để thuyết trình, Huy Thành - Văn Thành cũng chuẩn bị đã xong các bài tập cũng như ví dụ cần thiết trong bài thuyết trình và bài tập tự luyện cho các nhóm khác. Tiếp theo chúng tôi cũng tiếp tục thảo luận về ý tưởng slide và cách phân bổ sao cho hợp lý buổi thuyết trình rồi đưa ra thống nhất deadline để Phi Long soạn slide.\n",
        "- Ngày 26/03/2021 cũng là buổi tập cuối của nhóm trước buổi Seminar, nội dung buổi này xoay quang việc chỉnh sửa slide, tổng duyệt cho các thành viên thuyết trình, phân công thư ký, người trả lời câu hỏi ...\n",
        "\n",
        "-> Nhìn chung nhóm 6 hoàn thành tốt nhiệm vụ mà tập thể giao, các thành viên làm việc với tinh thần trách nhiệm, chỉnh chu, lắng nghe và trao đổi một các bình đẳng dựa trên sự học hỏi và sự nhiệt huyết.\n",
        "\n",
        "**CÁC ĐIỀU CÒN THIẾU SÓT TẠI BUỔI SEMINAR**\n",
        "- Sử dụng bảng nhiều hơn là sử dụng animation.\n",
        "- Còn thiếu phần đệ quy tương hỗ và cần bổ xung vào slide.\n",
        "- Quá tập trung vào đê quy nhị phân và bỏ qua khá nhiều nội dung về đệ quy tuyến tính và đệ quy tương hỗ.\n",
        "\n",
        "**CÔNG VIỆC CỦA CÁC THÀNH VIÊN SAU BUỔI SEMINAR**\n",
        "- Nhật Thanh tìm hiểu lý thuyết phần đệ quy tương hỗ.\n",
        "- Phi long và Huy Thành bổ sung phần lý thuyết và bài tập vào slide\n",
        "- Văn Thành chuẩn bị form bài tập để các nhóm làm cho buổi sửa bài tập\n",
        "- Huy Thành và Nhật Thanh sửa trước bài tập để chuẩn bị cho buổi sửa bài tập.\n",
        "- Nhật Thanh sửa bài tập của nhóm cho các bạn trong buổi sửa bài tập."
      ]
    },
    {
      "cell_type": "markdown",
      "metadata": {
        "id": "OhxFKsVcBDTg"
      },
      "source": [
        "#**2. Đánh giá câu hỏi và bài tập**"
      ]
    },
    {
      "cell_type": "markdown",
      "metadata": {
        "id": "ajEGY6Dx7AVu"
      },
      "source": [
        "## Tiêu chí đánh giá điểm\n",
        "- Mặc định các nhóm đã có phát biểu hay làm bài tập sẽ có 7 điểm\n",
        "- Các nhóm có tham gia phát biểu: 0.5 * (Số lần phát biểu)\n",
        "- Có giải bài tập nhưng kết quả không đúng: 0.5\n",
        "- Có giải bài tập và đúng hết: 1\n",
        "- Đóng góp câu hỏi: 0.5\n",
        "- Câu hỏi hay hoặc câu hỏi có ý nghĩa thực tiễn: 0.5\n",
        "- Nếu tổng điểm quá 10 thì sẽ được quy là 10"
      ]
    },
    {
      "cell_type": "markdown",
      "metadata": {
        "id": "bKka1_f97M_3"
      },
      "source": [
        "## **2.1. Đóng góp phát biểu xây dựng buổi học**\n",
        "- Các nhóm tham gia phát biểu trong buổi seminar\n",
        "\n",
        "| Tên nhóm | Số lần đóng góp | Người đóng góp | Tổng điểm |\n",
        "|:--------:|:---------------:|:--------------:|:---------:|\n",
        "| N01 | 2 | Xuân Linh, Tấn Thành | 1 |\n",
        "| N02 | 1 | Đức Thắng | 0.5 |\n",
        "| N03 | 0 | | 0 |\n",
        "| N04 | 1 | Hưng Phú | 0.5 |\n",
        "| N05 | 0 | | 0 |\n",
        "| N07 | 1 | Gia Kiệt | 0.5 |\n",
        "| N08 | 2 | Gia Phương | 1 |\n",
        "| N09 | 1 | Thành Luân | 0.5 |\n",
        "| N10 | 0 | | 0 |\n",
        "| N11 | 2 | Xuân Vũ, Hoàng Huy | 1 |\n",
        "| N12 | 0 | | 0 |\n",
        "| N13 | 0 | | 0 |\n",
        "| N14 | 2 | Vĩnh Phú, Chí Cường | 1 |\n",
        "| N15 | 0 | | 0 |\n",
        "| N16 | 1 | Lộc Linh | 0.5 |\n",
        "| N17 | 1 | Thế Tấn | 0.5|\n",
        "| N18 | 0 | | 0 |\n",
        "\n",
        "- Các nhóm tham gia đặt câu hỏi: 1, 4, 7, 9, 11, 14, 16, 17"
      ]
    },
    {
      "cell_type": "markdown",
      "metadata": {
        "id": "zZ931DW-FcaV"
      },
      "source": [
        "##**2.2. Đánh giá câu hỏi**"
      ]
    },
    {
      "cell_type": "markdown",
      "metadata": {
        "id": "XCR4n1z2BMDq"
      },
      "source": [
        "- **Nhóm 14 (N14)**: \n",
        "  - **Người đặt câu hỏi**: Nguyễn Chí Cường \n",
        "  - **Câu hỏi**: Độ phức tạp của đệ quy tương hỗ được tính như thế nào?\n",
        "  - **Câu trả lời**: Độ phức tạp của đệ quy tương hỗ chính là tổng độ phức tạp của hàm được gọi bởi đệ quy và hàm thực hiện đệ quy.\n",
        "  - **Đánh giá câu hỏi**: 9/10\n",
        "\n",
        "- **Nhóm 11 (N11)**: \n",
        "  - **Người đặt câu hỏi**: Đỗ Nguyễn Hoàng Huy\n",
        "  - **Câu hỏi**: Đề bài có dấu hiệu nào thì sử dụng đệ quy?\n",
        "  - **Câu trả lời**: Đề bài yêu cầu kết quả được tính bởi một công thức mà yêu cầu kết quả của một bài toán con trước đó, ví dụ như công thức tính định thức của một ma trận,  giải thuật có sử dụng vòng lặp (bài toán fibonanci có thể sử dụng vòng lặp để giải), hoặc chương trình có các hàm với chức năng riêng biệt nhưng lại được tái sử dụng nhiều lần trong chương trình (đệ quy tương hỗ).\n",
        "  - **Đánh giá câu hỏi**: 9.5/10\n",
        "\n",
        "- **Nhóm 1 (N01)**: \n",
        "  - **Người đặt câu hỏi**: Huỳnh Đỗ Tấn Thành\n",
        "  - **Câu hỏi**: Khi cây nhị phân trở thành danh sách liên kết thì độ phức tạp duyệt tới một phần tử là O(n), vậy tại sao bạn lại nói độ phức tạp của việc duyệt tới một phần tử trong cây là O(log(n))?\n",
        "  - **Câu trả lời**: Do cấu trúc dữ liệu cây được sử dụng trong thực tế luôn có một bước cân bằng để đảm bảo độ phức tạp luôn ổn định nên không bao giờ có trường hợp cây trở thành danh sách liên kết trong các ứng dụng hay phần mềm thực tế, vì vậy nhóm mình mới nói độ phức tạp duyệt tới một phần tử trong cây là O(log(n)).\n",
        "  - **Đánh giá câu hỏi**: 10/10\n",
        "\n",
        "- **Nhóm 4 (N04)**: \n",
        "  - **Người đặt câu hỏi**: Cao Hưng phú\n",
        "  - **Câu hỏi**: khi nào thì sử dụng đệ quy?\n",
        "  - **Câu trả lời**: Khi chương trình không yêu cầu giới hạn tài nguyên sử dụng hoặc là bạn muốn viết một chương trình đơn giản trong một thời gian ngắn.\n",
        "  - **Đánh giá câu hỏi**: 9/10"
      ]
    },
    {
      "cell_type": "markdown",
      "metadata": {
        "id": "ajXFR_Kc7h_X"
      },
      "source": [
        "## **2.3. Đánh giá bài tập**"
      ]
    },
    {
      "cell_type": "markdown",
      "metadata": {
        "id": "SFlfuWOc7lUn"
      },
      "source": [
        "- Link form bài tập [tại đây](https://docs.google.com/forms/d/1RLbM_9Lm9D7NqQXeucrVjcm7qn8GtgjaoBFU1g_ehqk/viewform?edit_requested=true).\n",
        "- Link file sheet thống kê: [Tại đây](https://github.com/Nhat-Thanh/CS112.L21/blob/main/Tong_Hop_Bao_Cao/Bang_Thong_Ke_Cau_Tra_Loi.csv)\n",
        "- Link file pdf được in từ trang kết quả của google form: [Tại đây](https://github.com/Nhat-Thanh/CS112.L21/blob/main/Tong_Hop_Bao_Cao/Th%E1%BB%91ng%20k%C3%AA%20k%E1%BA%BFt%20qu%E1%BA%A3%20b%C3%A0i%20t%E1%BA%ADp%20%C4%91%E1%BB%87%20quy%20-%20Nh%C3%B3m%206.pdf)"
      ]
    },
    {
      "cell_type": "markdown",
      "metadata": {
        "id": "TOR4GeEY7rM_"
      },
      "source": [
        "### **3.1. Các câu hỏi bài tập**"
      ]
    },
    {
      "cell_type": "markdown",
      "metadata": {
        "id": "AJIxtlie7pc3"
      },
      "source": [
        "- Bài tập của nhóm gồm 3 câu hỏi đều xoay quanh việc tính độ phức tạp của thuật toán đệ quy.\n",
        "- **Câu hỏi 1**:\n",
        "\n",
        "    ![Ques_1st](https://raw.githubusercontent.com/Nhat-Thanh/CS112.L21/main/Tong_Hop_Bao_Cao/Ques_1st.png)\n",
        "    \n",
        "- **Câu hỏi 2**:\n",
        "\n",
        "    ![Ques_2nd](https://raw.githubusercontent.com/Nhat-Thanh/CS112.L21/main/Tong_Hop_Bao_Cao/Ques_2nd.png)\n",
        "\n",
        "- **Câu hỏi 3**:\n",
        "\n",
        "    ![Ques_3rd](https://raw.githubusercontent.com/Nhat-Thanh/CS112.L21/main/Tong_Hop_Bao_Cao/Ques_3rd.png)"
      ]
    },
    {
      "cell_type": "markdown",
      "metadata": {
        "id": "Errg9OrS7uTX"
      },
      "source": [
        "### **3.2. Ghi nhận câu trả lời**"
      ]
    },
    {
      "cell_type": "markdown",
      "metadata": {
        "id": "s3JAlpeb7xSP"
      },
      "source": [
        "- Số điểm của các nhóm (theo thang điểm 10) sẽ được tính dựa trên số câu hỏi trả lời đúng tại lần submit cuối cùng của nhóm đó.\n",
        "- Số lượng nhóm tham gia giải bài tập: 16\n",
        "- Các nhóm tham gia giải bài tập: 1, 2, 3, 4, 5, 7, 8, 9, 10, 11, 12, 13, 14, 15, 16, 17\n",
        "- Tổng số lần submit đã ghi nhận được: 24\n",
        "- Tổng số lần submit cuối: 16\n",
        "- Biểu đồ thống kê số lần submit\n",
        "\n",
        "    ![Total_submitions](https://raw.githubusercontent.com/Nhat-Thanh/CS112.L21/main/Tong_Hop_Bao_Cao/Total_submittions.png)\n",
        "- Kết quả thống kê được:\n",
        "\n",
        "| Tên nhóm | Câu 1 | Câu 2 | Câu 3 | Số lần submit | Số câu đúng | Sô điểm |\n",
        "|:--------:|:-----:|:-----:|:-----:|:-------------:|:-----------:|:---------:|\n",
        "| N01 | O(4^n) | O(2^n) | O(3^n) | 1 | 3 | 1 |\n",
        "| N02 | O(4^n) | O(2^n) | O(3^n) | 1 | 3 | 1 |\n",
        "| N03 | O(4^n) | O(2^n) | O(3^n) | 1 | 3 | 1 |\n",
        "| N04 | O(4^n) | O(2^n) | O(3^n) | 1 | 3 | 1 |\n",
        "| N05 | O(4^n) | O(2^n) | O(3^n) | 1 | 3 | 1 |\n",
        "| N07 | O(4^n) | O(2^n) | O(3^n) | 1 | 3 | 1 |\n",
        "| N08 | O(4^n) | O(2^n) | O(3^n) | 1 | 3 | 1 |\n",
        "| N09 | O(4^n) | O(2^n) | O(3^n) | 3 | 3 | 1 |\n",
        "| N10 | O(4^n) | O(2^n) | O(3^n) | 4 | 3 | 1 |\n",
        "| N11 | O(4^n) | O(2^n) | O(3^n) | 1 | 3 | 1 |\n",
        "| N12 | O(4^n) | O(2^n) | O(3^n) | 2 | 3 | 1 |\n",
        "| N13 | O(4^n) | O(2^n) | O(3^n) | 1 | 3 | 1 |\n",
        "| N14 | O(4^n) | O(2^n) | O(3^n) | 2 | 3 | 1 |\n",
        "| N15 | O(4^n) | O(2^n) | O(3^n) | 1 | 3 | 1 |\n",
        "| N16 | O(4^n) | O(2^n) | O(3^n) | 1 | 3 | 1 |\n",
        "| N17 | O(4^n) | O(2^n) | O(3^n) | 1 | 3 | 1 |\n",
        "| N18 | O(4^n) | O(2^n) | O(3^n) | 1 | 3 | 1 |"
      ]
    },
    {
      "cell_type": "markdown",
      "metadata": {
        "id": "9UBpAVpd71Bf"
      },
      "source": [
        "### **3.3. Đánh giá câu trả lời**"
      ]
    },
    {
      "cell_type": "markdown",
      "metadata": {
        "id": "sBdFe6BQ63-i"
      },
      "source": [
        "- Câu 1 - đáp án đúng là O(4^n)\n",
        "  - Các nhóm trả lời sai nhiều nhất ở câu hỏi này do chỉ có 87.5% trả lời đúng trong khi 2 câu hỏi còn lại đều có số câu trả lời đúng trên 95% (cụ thể là 95.8%).\n",
        "  - Biểu đồ thống kê câu trả lời của câu hỏi 1:\n",
        " \n",
        "    ![Ques_1st_submitions](https://raw.githubusercontent.com/Nhat-Thanh/CS112.L21/main/Tong_Hop_Bao_Cao/Ques_1st_Submitions.png)\n",
        "\n",
        "- Câu 2 - đáp án đúng là O(2^n)\n",
        "  - Chỉ có 4.2% câu trả lời ghi nhận được là sai và các nhóm chỉ sai ở đáp án O(n^2), có thể do vội vã nên các nhóm đã chọn nhầm đáp án O(n^2) thay vì O(2^n).\n",
        "  - Biểu đồ thống kê câu trả lời của câu hỏi 2:\n",
        "  \n",
        "    ![Ques_2nd_submitions](https://raw.githubusercontent.com/Nhat-Thanh/CS112.L21/main/Tong_Hop_Bao_Cao/Ques_2nd_Submitions.png)\n",
        "\n",
        "- Câu 3 - đáp án đúng là O(3^n)\n",
        "  - Giống với câu hỏi số 2, có 4.2% câu trả lời ghi nhận được là sai và các nhóm chỉ sai ở đáp án O(n^3), có thể do vội vã nên các nhóm đã chọn nhầm đáp án O(n^3) thay vì O(3^n).\n",
        "  - Biểu đồ thống kê câu trả lời của câu hỏi 3:\n",
        "  \n",
        "    ![Ques_1st_submitions](https://raw.githubusercontent.com/Nhat-Thanh/CS112.L21/main/Tong_Hop_Bao_Cao/Ques_3rd_Submitions.png)"
      ]
    },
    {
      "cell_type": "markdown",
      "metadata": {
        "id": "4QiytH3079S4"
      },
      "source": [
        "#**4. Đánh giá kết quả cuối cùng của các nhóm**"
      ]
    },
    {
      "cell_type": "markdown",
      "metadata": {
        "id": "nx_GXf7A76FX"
      },
      "source": [
        "| Tên nhóm |Tương tác | Phát biểu | Câu hỏi | Bài tập | Tổng điểm |\n",
        "|:--------:|:--------:|:---------:|:-------:|:-------:|:---------:|\n",
        "| N01 | 7 | 1   | 1   | 1 | 10  |\n",
        "| N02 | 7 | 0.5 | 0   | 1 | 8.5 |\n",
        "| N03 | 7 | 0   | 0   | 1 | 8   |\n",
        "| N04 | 7 | 0.5 | 1   | 1 | 9.5 |\n",
        "| N05 | 7 | 0   | 0   | 1 | 8   |\n",
        "| N07 | 7 | 0.5 | 0.5 | 1 | 9   |\n",
        "| N08 | 7 | 1   | 0   | 1 | 9   |\n",
        "| N09 | 7 | 0.5 | 0.5 | 1 | 9   |\n",
        "| N10 | 7 | 0   | 0   | 1 | 8   |\n",
        "| N11 | 7 | 1   | 1   | 1 | 10  |\n",
        "| N12 | 7 | 0   | 0   | 1 | 8   |\n",
        "| N13 | 7 | 0   | 0   | 1 | 8   |\n",
        "| N14 | 7 | 1   | 1   | 1 | 10  |\n",
        "| N15 | 7 | 0   | 0   | 1 | 8   |\n",
        "| N16 | 7 | 0.5 | 0.5 | 1 | 9   |\n",
        "| N17 | 7 | 0.5 | 0.5 | 1 | 9   |\n",
        "| N18 | 0 | 0   | 0   | 0 | 0   |"
      ]
    },
    {
      "cell_type": "markdown",
      "metadata": {
        "id": "OmeArfkC8yxy"
      },
      "source": [
        "#**5. Mô tả các bài thực hành**"
      ]
    },
    {
      "cell_type": "markdown",
      "metadata": {
        "id": "jJt7jMZP8G6_"
      },
      "source": [
        "\n",
        "-  **Tuần 1: Tảo biển + Trạm thu phí**\n",
        "\n",
        "    - Link file colab: [Tuần 1](https://github.com/Nhat-Thanh/CS112.L21/blob/main/Tuan1/PTTKTT_Tuan1_wecode.ipynb)\n",
        "-  **Tuần 2: H-index + Khóa số**\n",
        "    - Link file colab: [Tuần 2](https://github.com/Nhat-Thanh/CS112.L21/blob/main/Tuan2/PTTKTT_Tuan2_wecode.ipynb)\n",
        "\n",
        "- **Tuần 3: Số nguyên mới + Đổi mới**\n",
        "    - Link file colab: [Tuần 3](https://github.com/Nhat-Thanh/CS112.L21/blob/main/Tuan3/PTTKTT_Tuan3_wecode.ipynb)\n",
        "\n",
        "- **Tuần 4: Sửa hàng rào + Phân số**\n",
        "    - Link file colab: [Tuần 4](https://github.com/Nhat-Thanh/CS112.L21/blob/main/Tuan4/PTTKTT_Tuan4_wecode.ipynb)"
      ]
    }
  ]
}