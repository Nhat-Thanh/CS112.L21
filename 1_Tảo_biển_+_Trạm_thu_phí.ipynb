{
  "nbformat": 4,
  "nbformat_minor": 0,
  "metadata": {
    "colab": {
      "name": "#1: Tảo biển + Trạm thu phí.ipynb",
      "provenance": [],
      "collapsed_sections": [],
      "include_colab_link": true
    },
    "kernelspec": {
      "name": "python3",
      "display_name": "Python 3"
    },
    "language_info": {
      "name": "python"
    }
  },
  "cells": [
    {
      "cell_type": "markdown",
      "metadata": {
        "id": "view-in-github",
        "colab_type": "text"
      },
      "source": [
        "<a href=\"https://colab.research.google.com/github/Nhat-Thanh/CS112.L21/blob/main/1_T%E1%BA%A3o_bi%E1%BB%83n_%2B_Tr%E1%BA%A1m_thu_ph%C3%AD.ipynb\" target=\"_parent\"><img src=\"https://colab.research.google.com/assets/colab-badge.svg\" alt=\"Open In Colab\"/></a>"
      ]
    },
    {
      "cell_type": "markdown",
      "metadata": {
        "id": "6zfVIlpNEXNu"
      },
      "source": [
        "Bài 1: Tảo biển\n",
        "1.   Abstraction: cho 2 số nguyên là n và k, sau k ngày sinh sản thì tổng số cá thể là bao nhiêu.\n",
        "2.   Pattern Recognition: dạng bài tìm kết quả từ một số đã cho sau khi trải qua các lần biến đổi.\n",
        "3.   Algorithm Design:\n",
        "\n",
        "\t      input: n, k\n",
        "\n",
        "\t      sum = 0\n",
        "\t      previous_result = n\n",
        "\t      result = 0\n",
        "\n",
        "\t      for i = 1 to k\n",
        "\t      \tresult = previous_result * 2 + sum\n",
        "\t      \tsum = sum + previous_result\n",
        "\t      \tprevious_result = result\n",
        "\n",
        "\t      print(result)\n",
        "\t\n",
        "4.   Đánh giá độ phức tạp: O(n)\n",
        "\n"
      ]
    },
    {
      "cell_type": "code",
      "metadata": {
        "colab": {
          "base_uri": "https://localhost:8080/"
        },
        "id": "1-jqkh6IGuii",
        "outputId": "b882f6cf-48ba-4f9f-a128-1d8cbd70f558"
      },
      "source": [
        "# Source code bai Tao Bien\n",
        "n, k = [int(x) for x in input().split()]\n",
        "\n",
        "sum = 0\n",
        "previous_result = n\n",
        "result = 0\n",
        "\n",
        "while k:\n",
        "    result = previous_result * 2 + sum\n",
        "    sum += previous_result\n",
        "    previous_result = result\n",
        "    k -= 1\n",
        "\n",
        "print(result % 1000000007)"
      ],
      "execution_count": 6,
      "outputs": [
        {
          "output_type": "stream",
          "text": [
            "3 6\n",
            "699\n"
          ],
          "name": "stdout"
        }
      ]
    },
    {
      "cell_type": "markdown",
      "metadata": {
        "id": "wt6ooTHLztkb"
      },
      "source": [
        "Bài 2: Trạm thu phí.\n",
        "1.   Abstraction: Nhập vào một dãy số nguyên, tìm dãy con có tổng lớn nhất trong dãy số đó.\n",
        "2.   Pattern Recognition: Tên dạng bài là tìm xâu, kỹ năng về xử lý số, so sánh.\n",
        "3.   Algorithm design:\n",
        "            // array input\n",
        "            input \n",
        "\n",
        "            sum = 0\n",
        "            Max = INT_MIN   // INT_MIN is an extremely small integer number\n",
        "\n",
        "            for i = 0 to length(input)\n",
        "               sum = max(input[i], sum + input[i])\n",
        "               Max = max(sum, Max)\n",
        "               if sum > Max\n",
        "                 last = i\n",
        "\n",
        "            Max_value = Max\n",
        "\n",
        "            for i = last to 1\n",
        "               Max_value = Max_value - input[i]\n",
        "               if Max_value == 0\n",
        "                  first = i\n",
        "                  while (input[first - 1] == 0 or input[first - 1] + input[first - 2] == 0)     \n",
        "                       if input[first - 1] == 0\n",
        "                             first = first - 1\n",
        "                       else \n",
        "                             first = first - 2\n",
        "                  break\n",
        "                  \n",
        "            print(first + 1, last + 1, Max)\n",
        "\n",
        "4.  Đánh giá độ phức tạp: O(n)"
      ]
    },
    {
      "cell_type": "code",
      "metadata": {
        "id": "YjDFKkGhgXPd",
        "colab": {
          "base_uri": "https://localhost:8080/"
        },
        "outputId": "91480746-f511-413a-abc8-ed536e79ee36"
      },
      "source": [
        "# Source code bài 2:\n",
        "n = int(input())\n",
        "input = input().split()\n",
        "input = [int(x) for x in input]\n",
        "\n",
        "Max = -1000000000\n",
        "sum = 0\n",
        "for i in range(n):\n",
        "    sum = max(input[i], sum + input[i])\n",
        "    if (Max < sum ):\n",
        "        Max = sum\n",
        "        last = i\n",
        "\n",
        "Max_value = Max\n",
        "\n",
        "first = 0\n",
        "i = last\n",
        "while i > 0:\n",
        "    Max_value -= input[i]\n",
        "    if (Max_value == 0):\n",
        "        first = i\n",
        "        while (input[first - 1] == 0 or (input[first - 2] + input[first - 1] == 0)):\n",
        "            if input[first - 1] == 0 :\n",
        "                first -= 1\n",
        "            if input[first - 2] + input[first - 1] == 0 :\n",
        "                first -= 2\n",
        "        break\n",
        "    i -= 1\n",
        "\n",
        "print(\"{0} {1} {2}\".format(first + 1, last + 1, Max))"
      ],
      "execution_count": 7,
      "outputs": [
        {
          "output_type": "stream",
          "text": [
            "16\n",
            "2 -4 5 -8 4 -1 -1 1 1 1 -2 2 4 -6 9 -4\n",
            "5 15 12\n"
          ],
          "name": "stdout"
        }
      ]
    }
  ]
}